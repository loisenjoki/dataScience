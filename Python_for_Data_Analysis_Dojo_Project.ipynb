{
  "nbformat": 4,
  "nbformat_minor": 0,
  "metadata": {
    "colab": {
      "name": "Copy of [Guiding Notebook] Python for Data Analysis Dojo Project",
      "provenance": [],
      "collapsed_sections": [
        "aUBCSB2ie6OW"
      ],
      "include_colab_link": true
    },
    "kernelspec": {
      "name": "python3",
      "display_name": "Python 3"
    }
  },
  "cells": [
    {
      "cell_type": "markdown",
      "metadata": {
        "id": "view-in-github",
        "colab_type": "text"
      },
      "source": [
        "<a href=\"https://colab.research.google.com/github/loisenjoki/dataScience/blob/master/Python_for_Data_Analysis_Dojo_Project.ipynb\" target=\"_parent\"><img src=\"https://colab.research.google.com/assets/colab-badge.svg\" alt=\"Open In Colab\"/></a>"
      ]
    },
    {
      "cell_type": "markdown",
      "metadata": {
        "id": "fhBPy3Kwe6K5"
      },
      "source": [
        "## 1. Importing Libraries"
      ]
    },
    {
      "cell_type": "code",
      "metadata": {
        "id": "JXuJs_uBe6K7"
      },
      "source": [
        "# importing numpy for performing scientific computations\n",
        "import numpy as np\n",
        "# importing pandas to perform data analysis and manipulation\n",
        "import pandas as pd\n",
        "\n",
        "# importing matplotlib.pyplot for data visualization\n",
        "import matplotlib.pyplot as plt\n",
        "# importing seaborn for data visualization\n",
        "import seaborn as sns"
      ],
      "execution_count": null,
      "outputs": []
    },
    {
      "cell_type": "markdown",
      "metadata": {
        "id": "4VocdDVbe6LF"
      },
      "source": [
        "## 2. Loading your Dataset"
      ]
    },
    {
      "cell_type": "code",
      "metadata": {
        "id": "9NvZHEQae6LK",
        "outputId": "88121fd9-e784-41b2-cf3b-f7b0c89fb15a",
        "colab": {
          "base_uri": "https://localhost:8080/",
          "height": 255
        }
      },
      "source": [
        "# store the URL to your dataset in a variable\n",
        "url = 'https://bit.ly/3lLgXwC'\n",
        "\n",
        "# load your dataset onto a Pandas data frame\n",
        "df = pd.read_csv(url)\n",
        "\n",
        "# print the dataset\n",
        "print(df)"
      ],
      "execution_count": null,
      "outputs": [
        {
          "output_type": "stream",
          "text": [
            "      invoice_id branch  ... gross_income rating\n",
            "0    750-67-8428      A  ...      26.1415    9.1\n",
            "1    226-31-3081      C  ...       3.8200    9.6\n",
            "2    631-41-3108      A  ...      16.2155    7.4\n",
            "3    123-19-1176      A  ...      23.2880    8.4\n",
            "4    373-73-7910      A  ...      30.2085    5.3\n",
            "..           ...    ...  ...          ...    ...\n",
            "995  233-67-5758      C  ...       2.0175    6.2\n",
            "996  303-96-2227      B  ...      48.6900    4.4\n",
            "997  727-02-1313      A  ...       1.5920    7.7\n",
            "998  347-56-2442      A  ...       3.2910    4.1\n",
            "999  849-09-3807      A  ...      30.9190    6.6\n",
            "\n",
            "[1000 rows x 16 columns]\n"
          ],
          "name": "stdout"
        }
      ]
    },
    {
      "cell_type": "markdown",
      "metadata": {
        "id": "u4ZFwG81e6Lb"
      },
      "source": [
        "## 3. Exploring your Dataset"
      ]
    },
    {
      "cell_type": "code",
      "metadata": {
        "id": "GO9VVRBTe6Lc",
        "outputId": "03157670-5de0-4cb6-9f2c-cfb1f23129eb",
        "colab": {
          "base_uri": "https://localhost:8080/",
          "height": 204
        }
      },
      "source": [
        "# preview the first 5 records\n",
        "df.head(5)"
      ],
      "execution_count": null,
      "outputs": [
        {
          "output_type": "execute_result",
          "data": {
            "text/html": [
              "<div>\n",
              "<style scoped>\n",
              "    .dataframe tbody tr th:only-of-type {\n",
              "        vertical-align: middle;\n",
              "    }\n",
              "\n",
              "    .dataframe tbody tr th {\n",
              "        vertical-align: top;\n",
              "    }\n",
              "\n",
              "    .dataframe thead th {\n",
              "        text-align: right;\n",
              "    }\n",
              "</style>\n",
              "<table border=\"1\" class=\"dataframe\">\n",
              "  <thead>\n",
              "    <tr style=\"text-align: right;\">\n",
              "      <th></th>\n",
              "      <th>invoice_id</th>\n",
              "      <th>branch</th>\n",
              "      <th>customer_type</th>\n",
              "      <th>gender</th>\n",
              "      <th>product_line</th>\n",
              "      <th>unit_price</th>\n",
              "      <th>quantity</th>\n",
              "      <th>tax_5_perc</th>\n",
              "      <th>total</th>\n",
              "      <th>date</th>\n",
              "      <th>time</th>\n",
              "      <th>payment</th>\n",
              "      <th>cost_of_goods_sold</th>\n",
              "      <th>gross_margin_percentage</th>\n",
              "      <th>gross_income</th>\n",
              "      <th>rating</th>\n",
              "    </tr>\n",
              "  </thead>\n",
              "  <tbody>\n",
              "    <tr>\n",
              "      <th>0</th>\n",
              "      <td>750-67-8428</td>\n",
              "      <td>A</td>\n",
              "      <td>Member</td>\n",
              "      <td>Female</td>\n",
              "      <td>Health and beauty</td>\n",
              "      <td>74.69</td>\n",
              "      <td>7</td>\n",
              "      <td>26.1415</td>\n",
              "      <td>548.9715</td>\n",
              "      <td>1/5/2019</td>\n",
              "      <td>13:08</td>\n",
              "      <td>Mobile Money</td>\n",
              "      <td>522.83</td>\n",
              "      <td>4.761905</td>\n",
              "      <td>26.1415</td>\n",
              "      <td>9.1</td>\n",
              "    </tr>\n",
              "    <tr>\n",
              "      <th>1</th>\n",
              "      <td>226-31-3081</td>\n",
              "      <td>C</td>\n",
              "      <td>Normal</td>\n",
              "      <td>Female</td>\n",
              "      <td>Electronic accessories</td>\n",
              "      <td>15.28</td>\n",
              "      <td>5</td>\n",
              "      <td>3.8200</td>\n",
              "      <td>80.2200</td>\n",
              "      <td>3/8/2019</td>\n",
              "      <td>10:29</td>\n",
              "      <td>Cash</td>\n",
              "      <td>76.40</td>\n",
              "      <td>4.761905</td>\n",
              "      <td>3.8200</td>\n",
              "      <td>9.6</td>\n",
              "    </tr>\n",
              "    <tr>\n",
              "      <th>2</th>\n",
              "      <td>631-41-3108</td>\n",
              "      <td>A</td>\n",
              "      <td>Normal</td>\n",
              "      <td>Male</td>\n",
              "      <td>Home and lifestyle</td>\n",
              "      <td>46.33</td>\n",
              "      <td>7</td>\n",
              "      <td>16.2155</td>\n",
              "      <td>340.5255</td>\n",
              "      <td>3/3/2019</td>\n",
              "      <td>13:23</td>\n",
              "      <td>Debit card</td>\n",
              "      <td>324.31</td>\n",
              "      <td>4.761905</td>\n",
              "      <td>16.2155</td>\n",
              "      <td>7.4</td>\n",
              "    </tr>\n",
              "    <tr>\n",
              "      <th>3</th>\n",
              "      <td>123-19-1176</td>\n",
              "      <td>A</td>\n",
              "      <td>Member</td>\n",
              "      <td>Male</td>\n",
              "      <td>Health and beauty</td>\n",
              "      <td>58.22</td>\n",
              "      <td>8</td>\n",
              "      <td>23.2880</td>\n",
              "      <td>489.0480</td>\n",
              "      <td>1/27/2019</td>\n",
              "      <td>20:33</td>\n",
              "      <td>Mobile Money</td>\n",
              "      <td>465.76</td>\n",
              "      <td>4.761905</td>\n",
              "      <td>23.2880</td>\n",
              "      <td>8.4</td>\n",
              "    </tr>\n",
              "    <tr>\n",
              "      <th>4</th>\n",
              "      <td>373-73-7910</td>\n",
              "      <td>A</td>\n",
              "      <td>Normal</td>\n",
              "      <td>Male</td>\n",
              "      <td>Sports and travel</td>\n",
              "      <td>86.31</td>\n",
              "      <td>7</td>\n",
              "      <td>30.2085</td>\n",
              "      <td>634.3785</td>\n",
              "      <td>2/8/2019</td>\n",
              "      <td>10:37</td>\n",
              "      <td>Mobile Money</td>\n",
              "      <td>604.17</td>\n",
              "      <td>4.761905</td>\n",
              "      <td>30.2085</td>\n",
              "      <td>5.3</td>\n",
              "    </tr>\n",
              "  </tbody>\n",
              "</table>\n",
              "</div>"
            ],
            "text/plain": [
              "    invoice_id branch  ... gross_income rating\n",
              "0  750-67-8428      A  ...      26.1415    9.1\n",
              "1  226-31-3081      C  ...       3.8200    9.6\n",
              "2  631-41-3108      A  ...      16.2155    7.4\n",
              "3  123-19-1176      A  ...      23.2880    8.4\n",
              "4  373-73-7910      A  ...      30.2085    5.3\n",
              "\n",
              "[5 rows x 16 columns]"
            ]
          },
          "metadata": {
            "tags": []
          },
          "execution_count": 20
        }
      ]
    },
    {
      "cell_type": "code",
      "metadata": {
        "id": "zl0_8A9we6Lh",
        "outputId": "921526be-ba9f-4deb-9ed6-d9762f90d30a",
        "colab": {
          "base_uri": "https://localhost:8080/",
          "height": 204
        }
      },
      "source": [
        "# preview the last 5 records\n",
        "df.tail(5)\n"
      ],
      "execution_count": null,
      "outputs": [
        {
          "output_type": "execute_result",
          "data": {
            "text/html": [
              "<div>\n",
              "<style scoped>\n",
              "    .dataframe tbody tr th:only-of-type {\n",
              "        vertical-align: middle;\n",
              "    }\n",
              "\n",
              "    .dataframe tbody tr th {\n",
              "        vertical-align: top;\n",
              "    }\n",
              "\n",
              "    .dataframe thead th {\n",
              "        text-align: right;\n",
              "    }\n",
              "</style>\n",
              "<table border=\"1\" class=\"dataframe\">\n",
              "  <thead>\n",
              "    <tr style=\"text-align: right;\">\n",
              "      <th></th>\n",
              "      <th>invoice_id</th>\n",
              "      <th>branch</th>\n",
              "      <th>customer_type</th>\n",
              "      <th>gender</th>\n",
              "      <th>product_line</th>\n",
              "      <th>unit_price</th>\n",
              "      <th>quantity</th>\n",
              "      <th>tax_5_perc</th>\n",
              "      <th>total</th>\n",
              "      <th>date</th>\n",
              "      <th>time</th>\n",
              "      <th>payment</th>\n",
              "      <th>cost_of_goods_sold</th>\n",
              "      <th>gross_margin_percentage</th>\n",
              "      <th>gross_income</th>\n",
              "      <th>rating</th>\n",
              "    </tr>\n",
              "  </thead>\n",
              "  <tbody>\n",
              "    <tr>\n",
              "      <th>995</th>\n",
              "      <td>233-67-5758</td>\n",
              "      <td>C</td>\n",
              "      <td>Normal</td>\n",
              "      <td>Male</td>\n",
              "      <td>Health and beauty</td>\n",
              "      <td>40.35</td>\n",
              "      <td>1</td>\n",
              "      <td>2.0175</td>\n",
              "      <td>42.3675</td>\n",
              "      <td>1/29/2019</td>\n",
              "      <td>13:46</td>\n",
              "      <td>Mobile Money</td>\n",
              "      <td>40.35</td>\n",
              "      <td>4.761905</td>\n",
              "      <td>2.0175</td>\n",
              "      <td>6.2</td>\n",
              "    </tr>\n",
              "    <tr>\n",
              "      <th>996</th>\n",
              "      <td>303-96-2227</td>\n",
              "      <td>B</td>\n",
              "      <td>Normal</td>\n",
              "      <td>Female</td>\n",
              "      <td>Home and lifestyle</td>\n",
              "      <td>97.38</td>\n",
              "      <td>10</td>\n",
              "      <td>48.6900</td>\n",
              "      <td>1022.4900</td>\n",
              "      <td>3/2/2019</td>\n",
              "      <td>17:16</td>\n",
              "      <td>Mobile Money</td>\n",
              "      <td>973.80</td>\n",
              "      <td>4.761905</td>\n",
              "      <td>48.6900</td>\n",
              "      <td>4.4</td>\n",
              "    </tr>\n",
              "    <tr>\n",
              "      <th>997</th>\n",
              "      <td>727-02-1313</td>\n",
              "      <td>A</td>\n",
              "      <td>Member</td>\n",
              "      <td>Male</td>\n",
              "      <td>Food and beverages</td>\n",
              "      <td>31.84</td>\n",
              "      <td>1</td>\n",
              "      <td>1.5920</td>\n",
              "      <td>33.4320</td>\n",
              "      <td>2/9/2019</td>\n",
              "      <td>13:22</td>\n",
              "      <td>Cash</td>\n",
              "      <td>31.84</td>\n",
              "      <td>4.761905</td>\n",
              "      <td>1.5920</td>\n",
              "      <td>7.7</td>\n",
              "    </tr>\n",
              "    <tr>\n",
              "      <th>998</th>\n",
              "      <td>347-56-2442</td>\n",
              "      <td>A</td>\n",
              "      <td>Normal</td>\n",
              "      <td>Male</td>\n",
              "      <td>Home and lifestyle</td>\n",
              "      <td>65.82</td>\n",
              "      <td>1</td>\n",
              "      <td>3.2910</td>\n",
              "      <td>69.1110</td>\n",
              "      <td>2/22/2019</td>\n",
              "      <td>15:33</td>\n",
              "      <td>Cash</td>\n",
              "      <td>65.82</td>\n",
              "      <td>4.761905</td>\n",
              "      <td>3.2910</td>\n",
              "      <td>4.1</td>\n",
              "    </tr>\n",
              "    <tr>\n",
              "      <th>999</th>\n",
              "      <td>849-09-3807</td>\n",
              "      <td>A</td>\n",
              "      <td>Member</td>\n",
              "      <td>Female</td>\n",
              "      <td>Fashion accessories</td>\n",
              "      <td>88.34</td>\n",
              "      <td>7</td>\n",
              "      <td>30.9190</td>\n",
              "      <td>649.2990</td>\n",
              "      <td>2/18/2019</td>\n",
              "      <td>13:28</td>\n",
              "      <td>Cash</td>\n",
              "      <td>618.38</td>\n",
              "      <td>4.761905</td>\n",
              "      <td>30.9190</td>\n",
              "      <td>6.6</td>\n",
              "    </tr>\n",
              "  </tbody>\n",
              "</table>\n",
              "</div>"
            ],
            "text/plain": [
              "      invoice_id branch  ... gross_income rating\n",
              "995  233-67-5758      C  ...       2.0175    6.2\n",
              "996  303-96-2227      B  ...      48.6900    4.4\n",
              "997  727-02-1313      A  ...       1.5920    7.7\n",
              "998  347-56-2442      A  ...       3.2910    4.1\n",
              "999  849-09-3807      A  ...      30.9190    6.6\n",
              "\n",
              "[5 rows x 16 columns]"
            ]
          },
          "metadata": {
            "tags": []
          },
          "execution_count": 21
        }
      ]
    },
    {
      "cell_type": "code",
      "metadata": {
        "id": "y_iRdY_Xe6Lo",
        "outputId": "abe00fd3-7dc2-4748-8ee8-52ce37bad6be",
        "colab": {
          "base_uri": "https://localhost:8080/",
          "height": 34
        }
      },
      "source": [
        "# get the shape (number of rows and columns) of your dataset\n",
        "df.shape\n"
      ],
      "execution_count": null,
      "outputs": [
        {
          "output_type": "execute_result",
          "data": {
            "text/plain": [
              "(1000, 16)"
            ]
          },
          "metadata": {
            "tags": []
          },
          "execution_count": 22
        }
      ]
    },
    {
      "cell_type": "markdown",
      "metadata": {
        "id": "R-YnUg24e6Lx"
      },
      "source": [
        "How many records (rows) and features/variables (columns) does your dataset have?\n",
        "\n",
        "---\n",
        "\n"
      ]
    },
    {
      "cell_type": "code",
      "metadata": {
        "id": "gtdXIoNwe6L0",
        "outputId": "f7d7b526-cf43-4497-9b8e-c6af457c4986",
        "colab": {
          "base_uri": "https://localhost:8080/",
          "height": 129
        }
      },
      "source": [
        "# preview all the columns\n",
        "YOUR CODE HERE"
      ],
      "execution_count": null,
      "outputs": [
        {
          "output_type": "error",
          "ename": "SyntaxError",
          "evalue": "ignored",
          "traceback": [
            "\u001b[0;36m  File \u001b[0;32m\"<ipython-input-23-e70a8bbfa1bb>\"\u001b[0;36m, line \u001b[0;32m2\u001b[0m\n\u001b[0;31m    YOUR CODE HERE\u001b[0m\n\u001b[0m            ^\u001b[0m\n\u001b[0;31mSyntaxError\u001b[0m\u001b[0;31m:\u001b[0m invalid syntax\n"
          ]
        }
      ]
    },
    {
      "cell_type": "code",
      "metadata": {
        "id": "ezJwQRwIe6L-",
        "outputId": "83b2cb81-8e88-4855-ca18-cce91f12a949",
        "colab": {
          "base_uri": "https://localhost:8080/",
          "height": 306
        }
      },
      "source": [
        "# previewing the data types of the features/variables/columns\n",
        "df.dtypes"
      ],
      "execution_count": null,
      "outputs": [
        {
          "output_type": "execute_result",
          "data": {
            "text/plain": [
              "invoice_id                  object\n",
              "branch                      object\n",
              "customer_type               object\n",
              "gender                      object\n",
              "product_line                object\n",
              "unit_price                 float64\n",
              "quantity                     int64\n",
              "tax_5_perc                 float64\n",
              "total                      float64\n",
              "date                        object\n",
              "time                        object\n",
              "payment                     object\n",
              "cost_of_goods_sold         float64\n",
              "gross_margin_percentage    float64\n",
              "gross_income               float64\n",
              "rating                     float64\n",
              "dtype: object"
            ]
          },
          "metadata": {
            "tags": []
          },
          "execution_count": 24
        }
      ]
    },
    {
      "cell_type": "markdown",
      "metadata": {
        "id": "b0WOjgYSe6MF"
      },
      "source": [
        "What are your observations on the data types?"
      ]
    },
    {
      "cell_type": "code",
      "metadata": {
        "id": "W9-fHdkme6MG",
        "outputId": "3e9c21ae-ec34-4755-8a11-f689a3c500d6",
        "colab": {
          "base_uri": "https://localhost:8080/",
          "height": 34
        }
      },
      "source": [
        "# looking for duplicated records\n",
        "df.duplicated().any()"
      ],
      "execution_count": null,
      "outputs": [
        {
          "output_type": "execute_result",
          "data": {
            "text/plain": [
              "False"
            ]
          },
          "metadata": {
            "tags": []
          },
          "execution_count": 25
        }
      ]
    },
    {
      "cell_type": "markdown",
      "metadata": {
        "id": "YS8C1J10e6MK"
      },
      "source": [
        "Are there any duplicated records in your dataset? No"
      ]
    },
    {
      "cell_type": "code",
      "metadata": {
        "id": "TXa4xgiTe6ML",
        "outputId": "aaf367bf-bdb8-4bab-c7bf-ab0bf8d5f837",
        "colab": {
          "base_uri": "https://localhost:8080/",
          "height": 306
        }
      },
      "source": [
        "# looking for missing values\n",
        "df.isna().sum()"
      ],
      "execution_count": null,
      "outputs": [
        {
          "output_type": "execute_result",
          "data": {
            "text/plain": [
              "invoice_id                 0\n",
              "branch                     0\n",
              "customer_type              0\n",
              "gender                     0\n",
              "product_line               0\n",
              "unit_price                 0\n",
              "quantity                   0\n",
              "tax_5_perc                 0\n",
              "total                      0\n",
              "date                       0\n",
              "time                       0\n",
              "payment                    0\n",
              "cost_of_goods_sold         0\n",
              "gross_margin_percentage    0\n",
              "gross_income               0\n",
              "rating                     0\n",
              "dtype: int64"
            ]
          },
          "metadata": {
            "tags": []
          },
          "execution_count": 26
        }
      ]
    },
    {
      "cell_type": "markdown",
      "metadata": {
        "id": "gnQhpefOe6MQ"
      },
      "source": [
        "Are there any missing values in your dataset? Yes\n"
      ]
    },
    {
      "cell_type": "markdown",
      "metadata": {
        "id": "W7IkiF1He6MR"
      },
      "source": [
        "## 4. Descriptive Data Analysis"
      ]
    },
    {
      "cell_type": "markdown",
      "metadata": {
        "id": "yw5JIuZ5e6MR"
      },
      "source": [
        "Data Analysis can be divided into two:\n",
        "- **Univariate Analysis** - where you look at a single variable\n",
        "- **Bivariate Analysis** - where you look at how two variables relate with each other\n",
        "\n",
        "Before we do the analysis, it is helpful to formulate questions that would help us answer the research problem.\n",
        "\n",
        "**Research Question:** You will be required to perform data analysis and provide recommendations based on insights gathered from the performance of the supermarket in the previous quarter.\n",
        "\n",
        "**Examples of Guiding Questions:**\n",
        "- Which branch has the most number of customers and which branch has the least?\n",
        "- Which is the most common customer type and which is the least?\n",
        "- Which gender makes up the majority in this dataset?\n",
        "- Which is the most common and the least common product line?\n",
        "- Which is the most common method of payment?\n",
        "- What is the average gross income per branch?\n",
        "- What is the average gross income per branch and per product line?\n",
        "- What is the average rating per branch?\n",
        "\n",
        "Note that these are only a few examples of the questions you can come up with to help you answer the research question. You can come up with more as you see fit."
      ]
    },
    {
      "cell_type": "markdown",
      "metadata": {
        "id": "BqVSeYpde6MS"
      },
      "source": [
        "### 4.1 Univariate Analysis"
      ]
    },
    {
      "cell_type": "code",
      "metadata": {
        "id": "r4vhyiF-e6MT"
      },
      "source": [
        "# get the summary statistics (descriptive statistics) of the numerical varables\n",
        "\n",
        "print(\"The mean \\n\",df.mean())\n",
        "print(\"The Mode \\n\",df.median())\n",
        "print(\"The Standard Deviation \\n\",df.std())\n",
        "print(\"The Skewness \\n\",df.skew())\n",
        "print(\"The Kurtosis \\n\",df.kurt())\n",
        "\n",
        "\n"
      ],
      "execution_count": null,
      "outputs": []
    },
    {
      "cell_type": "markdown",
      "metadata": {
        "id": "HZgm9OTme6MX"
      },
      "source": [
        "The summary statistics provide important information about the numerical variables such as their means, standard deviations, and so on."
      ]
    },
    {
      "cell_type": "code",
      "metadata": {
        "id": "T0V5YOh_e6MY",
        "outputId": "b5055222-9c83-448a-e794-5022694318ae",
        "colab": {
          "base_uri": "https://localhost:8080/",
          "height": 295
        }
      },
      "source": [
        "# create a bar plot of the 'branch' variable\n",
        "plt.figure(figsize = (8, 4))\n",
        "df.branch.value_counts().plot(kind = 'bar', rot = 0, color = ['red', 'green', 'blue'])\n",
        "plt.xlabel('Branch')\n",
        "plt.title('Distribution of Branches')\n",
        "plt.show()"
      ],
      "execution_count": null,
      "outputs": [
        {
          "output_type": "display_data",
          "data": {
            "image/png": "[encoded data removed]",
            "text/plain": [
              "<Figure size 576x288 with 1 Axes>"
            ]
          },
          "metadata": {
            "tags": [],
            "needs_background": "light"
          }
        }
      ]
    },
    {
      "cell_type": "markdown",
      "metadata": {
        "id": "6IfYAUdKe6Me"
      },
      "source": [
        "Note your observations. Branch A has the most number of Customers and Branch C has the list."
      ]
    },
    {
      "cell_type": "code",
      "metadata": {
        "id": "ZZfN0Ib8e6Mf",
        "outputId": "a6fef6ab-85dc-49dd-cac0-5caf204a34dc",
        "colab": {
          "base_uri": "https://localhost:8080/",
          "height": 404
        }
      },
      "source": [
        "# create a bar plot of the 'customer_type' variable\n",
        "plt.figure(figsize = (8, 6))\n",
        "df.customer_type.value_counts().plot(kind = 'bar', rot = 0)\n",
        "plt.xlabel('Customer Type')\n",
        "plt.title('Distribution of Customer Type')\n",
        "plt.show()"
      ],
      "execution_count": null,
      "outputs": [
        {
          "output_type": "display_data",
          "data": {
            "image/png": "[encoded data removed]",
            "text/plain": [
              "<Figure size 576x432 with 1 Axes>"
            ]
          },
          "metadata": {
            "tags": [],
            "needs_background": "light"
          }
        }
      ]
    },
    {
      "cell_type": "code",
      "metadata": {
        "id": "DU2d36mLe6Mx"
      },
      "source": [
        "# get the value counts of the 'customer_type' variable\n",
        "df.customer_type.value_counts()"
      ],
      "execution_count": null,
      "outputs": []
    },
    {
      "cell_type": "markdown",
      "metadata": {
        "id": "fWpI2zhve6M2"
      },
      "source": [
        "Note your observations.\n",
        "Members are slightly more than normal customer though the difference is relaticely small\n"
      ]
    },
    {
      "cell_type": "code",
      "metadata": {
        "id": "92BWAITXe6M3",
        "outputId": "fff5ed17-ded9-4405-a0a8-ec630eb21a56",
        "colab": {
          "base_uri": "https://localhost:8080/",
          "height": 68
        }
      },
      "source": [
        "# get the value counts of the 'gender' variable\n",
        "df.gender.value_counts()"
      ],
      "execution_count": null,
      "outputs": [
        {
          "output_type": "execute_result",
          "data": {
            "text/plain": [
              "Female    501\n",
              "Male      499\n",
              "Name: gender, dtype: int64"
            ]
          },
          "metadata": {
            "tags": []
          },
          "execution_count": 44
        }
      ]
    },
    {
      "cell_type": "markdown",
      "metadata": {
        "id": "4ZV54zoae6M_"
      },
      "source": [
        "Note your observations.\n",
        "Females makes up the majority of the dataset."
      ]
    },
    {
      "cell_type": "code",
      "metadata": {
        "id": "-eT3ZyT9e6M_",
        "outputId": "9e98b0c7-b5c4-408f-81f3-cf7ae38bfff9",
        "colab": {
          "base_uri": "https://localhost:8080/",
          "height": 324
        }
      },
      "source": [
        "# create a bar plot of the 'product_line' variable\n",
        "plt.figure(figsize = (8, 4))\n",
        "df.product_line.value_counts().plot(kind = 'bar', rot = 15, \n",
        "                                    color = sns.color_palette('rocket', df.product_line.nunique()))\n",
        "plt.xlabel('Product Line')\n",
        "plt.title('Distribution of Product Line')\n",
        "plt.xticks(ha = 'right')\n",
        "plt.show()"
      ],
      "execution_count": null,
      "outputs": [
        {
          "output_type": "display_data",
          "data": {
            "image/png": "[encoded data removed]",
            "text/plain": [
              "<Figure size 576x288 with 1 Axes>"
            ]
          },
          "metadata": {
            "tags": [],
            "needs_background": "light"
          }
        }
      ]
    },
    {
      "cell_type": "markdown",
      "metadata": {
        "id": "yZzmFT9Je6NF"
      },
      "source": [
        "Note your observations.\n",
        "Most common product line is Fashion accessories while least is Health and beauty."
      ]
    },
    {
      "cell_type": "code",
      "metadata": {
        "id": "3pXhfdHNe6NG",
        "outputId": "4dd6d276-2627-48c4-9a99-fbf5a5efa68d",
        "colab": {
          "base_uri": "https://localhost:8080/",
          "height": 373
        }
      },
      "source": [
        "# create a pie chart of the 'payment' variable\n",
        "plt.figure(figsize = (8, 6))\n",
        "df.payment.value_counts().plot(kind = 'pie', autopct = '%1.1f%%')\n",
        "plt.title('Distribution of Method of Payment')\n",
        "plt.show()"
      ],
      "execution_count": null,
      "outputs": [
        {
          "output_type": "display_data",
          "data": {
            "image/png": "[encoded data removed]",
            "text/plain": [
              "<Figure size 576x432 with 1 Axes>"
            ]
          },
          "metadata": {
            "tags": []
          }
        }
      ]
    },
    {
      "cell_type": "markdown",
      "metadata": {
        "id": "uagI6vW3e6NL"
      },
      "source": [
        "Note your observations. The difference of the payment methods used if quite small though Debit cash has the least followed by Cash  and the highest is Mobile Money\n"
      ]
    },
    {
      "cell_type": "markdown",
      "metadata": {
        "id": "lSmRqBcee6NL"
      },
      "source": [
        "### 4.2 Bivariate Analysis"
      ]
    },
    {
      "cell_type": "code",
      "metadata": {
        "id": "SE9KauUHe6NM",
        "outputId": "d3e5f30e-a0eb-49fc-d3ba-75f24c711c8e",
        "colab": {
          "base_uri": "https://localhost:8080/",
          "height": 388
        }
      },
      "source": [
        "# create a heatmap of the correlations of the variables in the dataset\n",
        "sns.heatmap(df.corr(),annot=True,fmt='.2f');"
      ],
      "execution_count": null,
      "outputs": [
        {
          "output_type": "display_data",
          "data": {
            "image/png": "[encoded data removed]",
            "text/plain": [
              "<Figure size 432x288 with 2 Axes>"
            ]
          },
          "metadata": {
            "tags": [],
            "needs_background": "light"
          }
        }
      ]
    },
    {
      "cell_type": "markdown",
      "metadata": {
        "id": "Y4tdXTQ-e6NP"
      },
      "source": [
        "Note your observations."
      ]
    },
    {
      "cell_type": "code",
      "metadata": {
        "id": "NQr6kDQZe6NQ",
        "outputId": "a6f7d415-1b78-4336-b68a-75a8cbfc88bb",
        "colab": {
          "base_uri": "https://localhost:8080/",
          "height": 450
        }
      },
      "source": [
        "# create a pivot table to find the mean of gross income per branch\n",
        "pd.pivot_table(df,index=[\"gross_income\",'branch'])\n"
      ],
      "execution_count": null,
      "outputs": [
        {
          "output_type": "execute_result",
          "data": {
            "text/html": [
              "<div>\n",
              "<style scoped>\n",
              "    .dataframe tbody tr th:only-of-type {\n",
              "        vertical-align: middle;\n",
              "    }\n",
              "\n",
              "    .dataframe tbody tr th {\n",
              "        vertical-align: top;\n",
              "    }\n",
              "\n",
              "    .dataframe thead th {\n",
              "        text-align: right;\n",
              "    }\n",
              "</style>\n",
              "<table border=\"1\" class=\"dataframe\">\n",
              "  <thead>\n",
              "    <tr style=\"text-align: right;\">\n",
              "      <th></th>\n",
              "      <th>cost_of_goods_sold</th>\n",
              "      <th>gross_margin_percentage</th>\n",
              "      <th>quantity</th>\n",
              "      <th>rating</th>\n",
              "      <th>tax_5_perc</th>\n",
              "      <th>total</th>\n",
              "      <th>unit_price</th>\n",
              "    </tr>\n",
              "    <tr>\n",
              "      <th>gross_income</th>\n",
              "      <th></th>\n",
              "      <th></th>\n",
              "      <th></th>\n",
              "      <th></th>\n",
              "      <th></th>\n",
              "      <th></th>\n",
              "      <th></th>\n",
              "    </tr>\n",
              "  </thead>\n",
              "  <tbody>\n",
              "    <tr>\n",
              "      <th>0.5085</th>\n",
              "      <td>10.17</td>\n",
              "      <td>4.761905</td>\n",
              "      <td>1.0</td>\n",
              "      <td>5.9</td>\n",
              "      <td>0.5085</td>\n",
              "      <td>10.6785</td>\n",
              "      <td>10.17</td>\n",
              "    </tr>\n",
              "    <tr>\n",
              "      <th>0.6045</th>\n",
              "      <td>12.09</td>\n",
              "      <td>4.761905</td>\n",
              "      <td>1.0</td>\n",
              "      <td>8.2</td>\n",
              "      <td>0.6045</td>\n",
              "      <td>12.6945</td>\n",
              "      <td>12.09</td>\n",
              "    </tr>\n",
              "    <tr>\n",
              "      <th>0.6270</th>\n",
              "      <td>12.54</td>\n",
              "      <td>4.761905</td>\n",
              "      <td>1.0</td>\n",
              "      <td>8.2</td>\n",
              "      <td>0.6270</td>\n",
              "      <td>13.1670</td>\n",
              "      <td>12.54</td>\n",
              "    </tr>\n",
              "    <tr>\n",
              "      <th>0.6390</th>\n",
              "      <td>12.78</td>\n",
              "      <td>4.761905</td>\n",
              "      <td>1.0</td>\n",
              "      <td>9.5</td>\n",
              "      <td>0.6390</td>\n",
              "      <td>13.4190</td>\n",
              "      <td>12.78</td>\n",
              "    </tr>\n",
              "    <tr>\n",
              "      <th>0.6990</th>\n",
              "      <td>13.98</td>\n",
              "      <td>4.761905</td>\n",
              "      <td>1.0</td>\n",
              "      <td>9.8</td>\n",
              "      <td>0.6990</td>\n",
              "      <td>14.6790</td>\n",
              "      <td>13.98</td>\n",
              "    </tr>\n",
              "    <tr>\n",
              "      <th>...</th>\n",
              "      <td>...</td>\n",
              "      <td>...</td>\n",
              "      <td>...</td>\n",
              "      <td>...</td>\n",
              "      <td>...</td>\n",
              "      <td>...</td>\n",
              "      <td>...</td>\n",
              "    </tr>\n",
              "    <tr>\n",
              "      <th>48.6900</th>\n",
              "      <td>973.80</td>\n",
              "      <td>4.761905</td>\n",
              "      <td>10.0</td>\n",
              "      <td>4.4</td>\n",
              "      <td>48.6900</td>\n",
              "      <td>1022.4900</td>\n",
              "      <td>97.38</td>\n",
              "    </tr>\n",
              "    <tr>\n",
              "      <th>48.7500</th>\n",
              "      <td>975.00</td>\n",
              "      <td>4.761905</td>\n",
              "      <td>10.0</td>\n",
              "      <td>8.0</td>\n",
              "      <td>48.7500</td>\n",
              "      <td>1023.7500</td>\n",
              "      <td>97.50</td>\n",
              "    </tr>\n",
              "    <tr>\n",
              "      <th>49.2600</th>\n",
              "      <td>985.20</td>\n",
              "      <td>4.761905</td>\n",
              "      <td>10.0</td>\n",
              "      <td>4.5</td>\n",
              "      <td>49.2600</td>\n",
              "      <td>1034.4600</td>\n",
              "      <td>98.52</td>\n",
              "    </tr>\n",
              "    <tr>\n",
              "      <th>49.4900</th>\n",
              "      <td>989.80</td>\n",
              "      <td>4.761905</td>\n",
              "      <td>10.0</td>\n",
              "      <td>8.7</td>\n",
              "      <td>49.4900</td>\n",
              "      <td>1039.2900</td>\n",
              "      <td>98.98</td>\n",
              "    </tr>\n",
              "    <tr>\n",
              "      <th>49.6500</th>\n",
              "      <td>993.00</td>\n",
              "      <td>4.761905</td>\n",
              "      <td>10.0</td>\n",
              "      <td>6.6</td>\n",
              "      <td>49.6500</td>\n",
              "      <td>1042.6500</td>\n",
              "      <td>99.30</td>\n",
              "    </tr>\n",
              "  </tbody>\n",
              "</table>\n",
              "<p>990 rows × 7 columns</p>\n",
              "</div>"
            ],
            "text/plain": [
              "              cost_of_goods_sold  ...  unit_price\n",
              "gross_income                      ...            \n",
              "0.5085                     10.17  ...       10.17\n",
              "0.6045                     12.09  ...       12.09\n",
              "0.6270                     12.54  ...       12.54\n",
              "0.6390                     12.78  ...       12.78\n",
              "0.6990                     13.98  ...       13.98\n",
              "...                          ...  ...         ...\n",
              "48.6900                   973.80  ...       97.38\n",
              "48.7500                   975.00  ...       97.50\n",
              "49.2600                   985.20  ...       98.52\n",
              "49.4900                   989.80  ...       98.98\n",
              "49.6500                   993.00  ...       99.30\n",
              "\n",
              "[990 rows x 7 columns]"
            ]
          },
          "metadata": {
            "tags": []
          },
          "execution_count": 57
        }
      ]
    },
    {
      "cell_type": "markdown",
      "metadata": {
        "id": "rkdkNQNVe6NU"
      },
      "source": [
        "Note your observations."
      ]
    },
    {
      "cell_type": "code",
      "metadata": {
        "id": "r-0bM2G6e6NU"
      },
      "source": [
        "# create a pivot table to find the average gross income per product line\n",
        "YOUR CODE HERE"
      ],
      "execution_count": null,
      "outputs": []
    },
    {
      "cell_type": "markdown",
      "metadata": {
        "id": "2bPmDdiue6NY"
      },
      "source": [
        "Note your observations."
      ]
    },
    {
      "cell_type": "code",
      "metadata": {
        "id": "WzI1KFrUe6NY"
      },
      "source": [
        "# get the average gross income per product line for each branch and save to a dataframe\n",
        "branches = pd.pivot_table(df, index=['branch', 'product_line'], aggfunc={'gross_income' : 'mean'})\n",
        "branches = branches.reset_index()\n",
        "\n",
        "# split the dataframe into three smaller dataframes based on branch\n",
        "branch_a = branches.loc[branches['branch'] == 'A']\n",
        "branch_b = branches.loc[branches['branch'] == 'B']\n",
        "branch_c = branches.loc[branches['branch'] == 'C']"
      ],
      "execution_count": null,
      "outputs": []
    },
    {
      "cell_type": "code",
      "metadata": {
        "id": "dRaLg4Fne6Nc"
      },
      "source": [
        "# preview the average gross income per product line for Branch A\n",
        "YOUR CODE HERE"
      ],
      "execution_count": null,
      "outputs": []
    },
    {
      "cell_type": "code",
      "metadata": {
        "id": "OKgh-CiHe6Nh"
      },
      "source": [
        "# preview the average gross income per product line for Branch B\n",
        "YOUR CODE HERE"
      ],
      "execution_count": null,
      "outputs": []
    },
    {
      "cell_type": "code",
      "metadata": {
        "id": "gWC6e_4xe6Nl"
      },
      "source": [
        "# preview the average gross income per product line for Branch C\n",
        "YOUR CODE HERE"
      ],
      "execution_count": null,
      "outputs": []
    },
    {
      "cell_type": "markdown",
      "metadata": {
        "id": "ardBYDWue6Ns"
      },
      "source": [
        "Note your observations."
      ]
    },
    {
      "cell_type": "markdown",
      "metadata": {
        "id": "Sp7i_jppe6Nt"
      },
      "source": [
        " "
      ]
    },
    {
      "cell_type": "code",
      "metadata": {
        "id": "bwye0SkRe6Nv"
      },
      "source": [
        "# create a pivot table to find the average rating per branch\n",
        "YOUR CODE HERE"
      ],
      "execution_count": null,
      "outputs": []
    },
    {
      "cell_type": "markdown",
      "metadata": {
        "id": "YZK8tTbGe6Nz"
      },
      "source": [
        "Note your observations."
      ]
    },
    {
      "cell_type": "code",
      "metadata": {
        "id": "DQVVhXRDe6N0"
      },
      "source": [
        "# create a pivot table to find the average rating per product_line\n",
        "YOUR CODE HERE"
      ],
      "execution_count": null,
      "outputs": []
    },
    {
      "cell_type": "markdown",
      "metadata": {
        "id": "MzSzbe7Oe6N5"
      },
      "source": [
        "Note your observations."
      ]
    },
    {
      "cell_type": "code",
      "metadata": {
        "id": "Z38CUA21e6N6"
      },
      "source": [
        "# get the average rating per product line for each branch and save to a dataframe\n",
        "ratings = pd.pivot_table(df, index=['branch', 'product_line'], aggfunc={'rating' : 'mean'})\n",
        "ratings = ratings.reset_index()\n",
        "\n",
        "# split dataframe into smaller dataframes based on branch\n",
        "ratings_a = ratings.loc[ratings['branch'] == 'A']\n",
        "ratings_b = ratings.loc[ratings['branch'] == 'B']\n",
        "ratings_c = ratings.loc[ratings['branch'] == 'C']"
      ],
      "execution_count": null,
      "outputs": []
    },
    {
      "cell_type": "code",
      "metadata": {
        "id": "7NYyCbI3e6OC"
      },
      "source": [
        "# preview the average ratings per product line for Branch A\n",
        "YOUR CODE HERE"
      ],
      "execution_count": null,
      "outputs": []
    },
    {
      "cell_type": "code",
      "metadata": {
        "id": "SxM1w7Uze6OH"
      },
      "source": [
        "# preview the average ratings per product line for Branch B\n",
        "YOUR CODE HERE"
      ],
      "execution_count": null,
      "outputs": []
    },
    {
      "cell_type": "code",
      "metadata": {
        "id": "y3TkqyYxe6OM"
      },
      "source": [
        "# preview the average ratings per product line for Branch C\n",
        "YOUR CODE HERE"
      ],
      "execution_count": null,
      "outputs": []
    },
    {
      "cell_type": "markdown",
      "metadata": {
        "id": "poiHIPYue6OU"
      },
      "source": [
        "Note your observations."
      ]
    },
    {
      "cell_type": "markdown",
      "metadata": {
        "id": "RVB8pHoke6OV"
      },
      "source": [
        "## 5. Summary & Recommendations"
      ]
    },
    {
      "cell_type": "markdown",
      "metadata": {
        "id": "aUBCSB2ie6OW"
      },
      "source": [
        "#### Summary\n",
        "Summarize your findings.\n",
        "\n",
        "#### Recommendations\n",
        "Provide recommendations based on your findings.\n"
      ]
    }
  ]
}